{
 "cells": [
  {
   "cell_type": "markdown",
   "metadata": {},
   "source": [
    "# BM25 Baseline"
   ]
  },
  {
   "cell_type": "code",
   "execution_count": 11,
   "metadata": {},
   "outputs": [],
   "source": [
    "import json\n",
    "from math import log\n",
    "#adding words to stopwords\n",
    "from nltk.tokenize import word_tokenize\n",
    "from gensim.parsing.preprocessing import STOPWORDS\n",
    "#adding custom words to the pre-defined stop words list\n",
    "all_stopwords_gensim = STOPWORDS\n",
    "\n",
    "def preprocess(doc):\n",
    "    # Tokenize the document by whitespace\n",
    "    tokens = word_tokenize(doc)\n",
    "    tokens_without_sw = [word for word in tokens if not word in all_stopwords_gensim]\n",
    "    tokens = tokens_without_sw\n",
    "\n",
    "    # Calculate document length and term frequencies\n",
    "    doc_len = len(tokens)\n",
    "    tf = {}\n",
    "    for token in tokens:\n",
    "        if token not in tf:\n",
    "            tf[token] = 0\n",
    "        tf[token] += 1\n",
    "\n",
    "    return {\"len\": doc_len, \"tf\": tf}\n",
    "\n",
    "def bm25(query, docs, doc_info, k1=1.2, b=0.75, top=5):\n",
    "    # Set parameters\n",
    "    k2 = 100\n",
    "    N = len(docs)\n",
    "    avgdl = sum(doc_info[d][\"len\"] for d in docs) / N\n",
    "\n",
    "    # Calculate query term frequencies\n",
    "    qf = {}\n",
    "    for term in query:\n",
    "        if term not in qf:\n",
    "            qf[term] = 0\n",
    "        qf[term] += 1\n",
    "\n",
    "    # Calculate BM25 score for each document\n",
    "    scores = {}\n",
    "    for doc in docs:\n",
    "        score = 0\n",
    "        for term in query:\n",
    "            if term not in doc_info[doc][\"tf\"]:\n",
    "                continue\n",
    "            idf = log((N - len(doc_info) + 0.5) / (len(doc_info[doc][\"tf\"]) + 0.5))\n",
    "            tf = doc_info[doc][\"tf\"][term]\n",
    "            score += idf * ((k1 + 1) * tf) / (k1 * ((1 - b) + b * (doc_info[doc][\"len\"] / avgdl)) + tf)\n",
    "            score += (k2 + 1) * qf[term] * idf / (k2 + qf[term])\n",
    "        scores[doc] = score\n",
    "\n",
    "    # Return the key with the highest score\n",
    "    return sorted(scores, key=scores.get)[:top]"
   ]
  },
  {
   "cell_type": "code",
   "execution_count": 6,
   "metadata": {},
   "outputs": [],
   "source": [
    "data = {}\n",
    "with open('../data/TourQue_Knowledge_Sel.json') as f:\n",
    "    knowledge = json.load(f)\n",
    "    for k,v in knowledge.items():\n",
    "        data[k] = ' '.join(v['review'])#.split()"
   ]
  },
  {
   "cell_type": "code",
   "execution_count": 7,
   "metadata": {
    "scrolled": true
   },
   "outputs": [],
   "source": [
    "# Preprocess the documents\n",
    "doc_info = {}\n",
    "for key, value in data.items():\n",
    "    doc_info[key] = preprocess(value)"
   ]
  },
  {
   "cell_type": "code",
   "execution_count": 9,
   "metadata": {},
   "outputs": [],
   "source": [
    "with open('../data/TourQue_QA_Pairs/test.json') as f:\n",
    "    test_data = json.load(f)"
   ]
  },
  {
   "cell_type": "code",
   "execution_count": 30,
   "metadata": {
    "scrolled": true
   },
   "outputs": [],
   "source": [
    "# This will take a long time (about 1 hour)\n",
    "from tqdm import tqdm\n",
    "counts = {'n_data':0, 'acc@3':0, 'acc@5':0, 'acc@30':0, 'acc@100':0, 'mrr':0,}\n",
    "for piece in tqdm(test_data):\n",
    "    query = piece['question']\n",
    "    gold_idx = piece['all_answer_entities']\n",
    "    sorted_indexes = bm25(query.split(), data.keys(), doc_info, top=101)\n",
    "    \n",
    "    for pos,idx in enumerate(sorted_indexes):\n",
    "        if idx in gold_idx:\n",
    "            break\n",
    "    counts['mrr'] = counts['mrr'] + 1/(pos+1)\n",
    "    if pos<3: counts['acc@3'] = counts['acc@3'] + 1\n",
    "    if pos<5: counts['acc@5'] = counts['acc@5'] + 1\n",
    "    if pos<30: counts['acc@30'] = counts['acc@30'] + 1\n",
    "    if pos<100: counts['acc@100'] = counts['acc@100'] + 1\n",
    "    counts['n_data'] += 1\n",
    "        \n",
    "eval_results = {'acc@3': counts['acc@3'] / counts['n_data'] * 100,\n",
    "                'acc@5': counts['acc@5'] / counts['n_data'] * 100,\n",
    "                'acc@30': counts['acc@30'] / counts['n_data'] * 100,\n",
    "                'acc@100': counts['acc@100'] / counts['n_data'] * 100,\n",
    "                'mrr': counts['mrr'] / counts['n_data'],\n",
    "                }"
   ]
  },
  {
   "cell_type": "code",
   "execution_count": 29,
   "metadata": {},
   "outputs": [
    {
     "data": {
      "text/plain": [
       "{'acc@3': 0.29940119760479045,\n",
       " 'acc@5': 0.4375863657300783,\n",
       " 'acc@30': 1.8654997696913862,\n",
       " 'acc@100': 3.6849378166743434,\n",
       " 'mrr': 0.013972407856372186}"
      ]
     },
     "execution_count": 29,
     "metadata": {},
     "output_type": "execute_result"
    }
   ],
   "source": [
    "eval_results"
   ]
  },
  {
   "cell_type": "markdown",
   "metadata": {},
   "source": [
    "{'acc@3': 0.29940119760479045,\n",
    " 'acc@5': 0.4375863657300783,\n",
    " 'acc@30': 1.8654997696913862,\n",
    " 'acc@100': 3.6849378166743434,\n",
    " 'mrr': 0.013972407856372186}"
   ]
  },
  {
   "cell_type": "markdown",
   "metadata": {},
   "source": [
    "# Distance baseline"
   ]
  },
  {
   "cell_type": "markdown",
   "metadata": {},
   "source": [
    "05/16/2022 07:12:16 - Eval results on step-3 -- acc@1: 0.005555555555555556\n",
    "05/16/2022 07:12:16 - Eval results on step-3 -- acc@3: 0.016666666666666666\n",
    "05/16/2022 07:12:16 - Eval results on step-3 -- acc@5: 0.022222222222222223\n",
    "05/16/2022 07:12:16 - Eval results on step-3 -- acc@30: 0.11203703703703703\n",
    "05/16/2022 07:12:16 - Eval results on step-3 -- acc@100: 0.23333333333333334\n",
    "05/16/2022 07:12:16 - Eval results on step-3 -- acc@500: 0.537962962962963\n",
    "05/16/2022 07:12:16 - Eval results on step-3 -- mrr: 0.02186483412784222"
   ]
  },
  {
   "cell_type": "markdown",
   "metadata": {},
   "source": [
    "# POI example"
   ]
  },
  {
   "cell_type": "code",
   "execution_count": 10,
   "metadata": {
    "scrolled": true
   },
   "outputs": [
    {
     "name": "stdout",
     "output_type": "stream",
     "text": [
      "{'review': ['The place was far from packed, but those who were there were very loud.\\n', 'It was the only place that we didnt have on a list of places to go and I have to say it was one of the high lights of the night.\\n', 'We stumbled across this place whilst enjoying the night life around the lower east side late on a Saturday night.\\n', 'I went in for drinks while I waited for a reservation nearby.\\n', \"On the whole , the atmosphere was not one in which I'd like to stay very long.\\n\", \"The loud music wasn't the problem.\\n\", 'Turns out that the place is very noisy.\\n', 'They were not serving food when we arrived, but the bar tender ordered a pizza for us which we ate at the bar :-) Definitely include it in an East Village pub crawl\\n', 'Nice bar to grab a beer and a warm pretzel.\\n', 'I wanted a nice pub to sit down and have a beer in peace and quiet.\\n', 'You always find a seat in this place .\\n', 'A great prerequisite to the delancey for the final blow out.\\n', \"A disappointment, but it depends what you're after.\\n\", 'We were early for our res at Ivan Ramen down the street.\\n', 'Good beer and good service .\\n', 'They have Magners (just what you need on a hot NYC summer day) The pace is easy going, the staff are friendly and the drinks are reasonably priced (similar to Dublin).\\n', 'Staff is kindle and guinness is a real guinness .\\n', 'Good draft selection and very friendly service\\n', 'The bartender was very friendly.\\n', \"I can't speak to the food, but it was exactly what we needed when we needed it.\\n\", 'It was quiet and clean.\\n', 'I had read the reviews, and had high expectations.\\n', 'For a very young audience, I guess it might be fun\\n', 'The music was R&B / HIPHOP / Pop and the whole place had a really good vibe.\\n', 'Everyone up dancing, lots of new yorkers.\\n', 'We stumbled across this \"Irish\" bar while waiting to check into our hotel.\\n'], 'lat_long': [40.7201861, -73.9846227], 'name': 'Donnybrook, 35 Clinton St, New York City, NY 10002-2426', 'cluster_map': {'3': [2, 0, 1, 1, 1, 1, 1, 1, 1, 1, 1, 2, 1, 1, 1, 0, 0, 0, 1, 1, 1, 1, 1, 0, 0, 1], '5': [2, 3, 1, 1, 1, 1, 4, 4, 1, 1, 1, 2, 1, 1, 1, 3, 3, 0, 1, 4, 1, 1, 4, 3, 3, 4], '7': [4, 3, 2, 2, 2, 0, 5, 5, 0, 2, 0, 6, 0, 5, 0, 3, 3, 1, 5, 5, 0, 2, 5, 3, 3, 5], '9': [2, 4, 7, 0, 7, 0, 3, 3, 5, 7, 5, 6, 5, 0, 5, 4, 4, 8, 5, 3, 5, 5, 3, 4, 1, 3]}}\n",
      "0: The place was far from packed, but those who were there were very loud.\n",
      "1: It was the only place that we didnt have on a list of places to go and I have to say it was one of the high lights of the night.\n",
      "2: We stumbled across this place whilst enjoying the night life around the lower east side late on a Saturday night.\n",
      "3: I went in for drinks while I waited for a reservation nearby.\n",
      "4: On the whole , the atmosphere was not one in which I'd like to stay very long.\n",
      "5: The loud music wasn't the problem.\n",
      "6: Turns out that the place is very noisy.\n",
      "7: They were not serving food when we arrived, but the bar tender ordered a pizza for us which we ate at the bar :-) Definitely include it in an East Village pub crawl\n",
      "8: Nice bar to grab a beer and a warm pretzel.\n",
      "9: I wanted a nice pub to sit down and have a beer in peace and quiet.\n",
      "10: You always find a seat in this place .\n",
      "11: A great prerequisite to the delancey for the final blow out.\n",
      "12: A disappointment, but it depends what you're after.\n",
      "13: We were early for our res at Ivan Ramen down the street.\n",
      "14: Good beer and good service .\n",
      "15: They have Magners (just what you need on a hot NYC summer day) The pace is easy going, the staff are friendly and the drinks are reasonably priced (similar to Dublin).\n",
      "16: Staff is kindle and guinness is a real guinness .\n",
      "17: Good draft selection and very friendly service\n",
      "18: The bartender was very friendly.\n",
      "19: I can't speak to the food, but it was exactly what we needed when we needed it.\n",
      "20: It was quiet and clean.\n",
      "21: I had read the reviews, and had high expectations.\n",
      "22: For a very young audience, I guess it might be fun\n",
      "23: The music was R&B / HIPHOP / Pop and the whole place had a really good vibe.\n",
      "24: Everyone up dancing, lots of new yorkers.\n",
      "25: We stumbled across this \"Irish\" bar while waiting to check into our hotel.\n",
      "{'review': ['The zucchini soup was delicious and fresh, salad crisp and not loaded with dressing.\\n', 'Had the homemade pasta special with brussel sprouts, shitake mushrooms, and fresh herbs.\\n', 'I had pasta, salad and desert here two days in a row.\\n', 'I had the Caparese Salad and Calamari both great and my husband an pesto chicken sandwich.\\n', 'The eggplant parmigiana appetizer was a single thin slice of eggplant with a thicker layer of regular (not fresh) mozzarella melted on top, something I could make at home in 5 min.\\n', 'This was the first time I had such small yet very flavorful meatballs with the spaghetti.\\n', 'The pieces of brussel sprouts seriously added up to 1-1.\\n', 'My portobello pasta was great.\\n', '5 brussel sprouts, and the shitake mushroom also at most 1 shitake mushroom.\\n', 'We ordered a variety of items from the menu ranging from appetizers (mussels are terrific) to salad to fish and pasta dishes to dessert.\\n', 'Excellent coffee.\\n', 'nice service!\\n', 'This for $17.\\n', 'Good pasta,not too much.\\n', \"Maybe I've just gotten incredibly lucky here.\\n\", 'It was pretty ordinary.\\n', \"However, I'm puzzled by the bad reviews.\\n\", 'check out Al Dente!\\n', 'Based on my experiences, I recommend it.\\n', 'Charming atmosphere too!\\n', 'Bad communications and indifferent service make this restaurant an unpleasant dining experience.\\n', 'The restaurant is pretty but the tables are very close together and the room is loud, which is a problem for conversation.\\n', 'The hostess was kind enough to give us a window table for 7 without reservations.\\n', 'Quiet atmosfere, local guests, no tourists.\\n', 'The atmosphere is inviting and the food was very good.\\n', 'We selected Al Dente because of the location but were pleasantly surprised by the ambiance, service and food.\\n', 'The food was very tasty and the service was great, we would eat here again.\\n', 'Lovely space, friendly staff and tasty dishes.\\n', 'The staff is friendly and attentive.\\n', 'I had heard good things about this restaurant, but I will not return.\\n', 'The risotto was vegetarian.\\n', 'The pasta is wonderful.\\n', 'Shrimp was good.\\n', 'There is a reason why Al Dente has been around so long!!\\n', 'Dinner was outstanding.\\n', 'Italian food was awesome.\\n', 'Branzino was perfectly cooked.\\n', 'They loved it.\\n', \"The pasta wasn't fresh and seemed to be out of a box.\\n\", 'Some of the food was just okay, but other things were not.\\n', 'The food was amazing and so was the ambience.\\n', 'The food was excellent, i ordered fettuticini Alfredo which was probably the best i have ever had!\\n', 'Food overall was good although a few of the pasta fisher were not very warm when served.\\n', 'Nevertheless I enjoyed my meal there.\\n', 'In fact, the food is very good.\\n', 'The food and service was good it made me happy but nothing really special.\\n', 'Although there were mixed reviews online, we thought it was a good dining experience.\\n', 'I have never had a bad meal here.\\n', 'This is a lovely restaurant in the Upper West Side, we had a very nice meal here during our stay in New York.\\n', 'Mid-December visit to this restaurant exceeded our expectations.\\n', 'Our family was looking for a place to dine close to our condo during a recent visit to NY.\\n', 'This was the most expensive dinner of our trip, and probably the most disappointing.\\n', 'We were advised to try this restaurant by the doorman at our hotel on the first night of our holiday.\\n', \"I was on the childrens museum with wife and daughter we hadn't nothing to eat so we decided to grab a quick bite.\\n\", 'Due to the weather outside we were at the restaurant for two and a half hours (our choice after a day of museum going)!\\n', 'While staying in New York for the month of November, gave this restaurant a try and was pleasantly surprised.\\n', 'On a warm day the outside tables were all occupied, so the small corner table inside while dining alone was perfect for the view and the food.\\n', \"Didn't know what we were hungry for until we saw the menu at Al Dente.\\n\", 'It was our first night and we were tired, so we just walked in to this italian restaurant.\\n', 'We had some wine and time to talk.\\n', 'We stumbled upon this place after a few drinks in the area and were not disappointed.\\n', 'We had just gotten into the city after a long morning of travel.\\n', 'Ducked into this lovely little place to get out of a storm and we were so pleased we did!\\n', 'Just happened to stop in for lunch and we returned for dinner.\\n', 'Me and my husband went there after a long day of shopping.\\n', \"Next time we're on vacation we gonna make sure we visit again\\n\", 'A little pricey, but we left happy!\\n', 'As usual didnt fail us.\\n', 'First, it was cream-based, which was not part of the description.\\n', \"The service wasn't very attentive.\\n\", 'No one rushed us out.\\n', \"But, If it's good enough for Roth, it's good enough for me.\\n\", 'At al dente new york, you eat the very best of the italian food, very delicious, friendly staff, nice Atmosphere, i was there for business and i loved this restarant, i would recommend it and would go there again if i am in new york city\\n', 'I do not recommend this restaurant, attended only because other similarly priced restaurants were booked.\\n', 'There are many places to choose from when looking to eat in Manhattan and many come and go like the seasons.\\n', 'Would definitely go back here and recommend this place to anyone who likes real Italian food.\\n', 'We looked for a good italian restaurant near to our hotel.\\n', 'The food is consistently great and after talking with the owner many time over the years, I know that she searches out the best quality ingredients and makes everything fresh, from the bread they serve to all the desserts.\\n', \"if you want great Italian food and the best Tiramisu you'll ever have.\\n\", \"When I want great Italian food that doesn't break the bank I go to Al Dente.\\n\", 'You get ready to dine in a Italian restaurant to find out that the waiters in \"Al Dente\" don\\'t know a thing about pasta?\\n', 'Had a marvelous, Irish waiter (in an Italian restaurant?\\n', 'Portions European size.\\n'], 'lat_long': [40.7836049, -73.9776997], 'name': 'Al Dente Restaurant, 417 Amsterdam Ave, New York City, NY 10024-6209', 'cluster_map': {'3': [0, 0, 1, 1, 0, 1, 1, 0, 0, 1, 0, 2, 2, 0, 1, 1, 1, 2, 0, 2, 1, 0, 1, 0, 0, 1, 0, 0, 0, 0, 0, 0, 1, 1, 0, 0, 0, 0, 0, 1, 0, 0, 0, 1, 0, 0, 0, 1, 1, 0, 1, 1, 1, 1, 1, 2, 1, 1, 0, 0, 1, 0, 0, 1, 0, 2, 0, 0, 2, 1, 0, 1, 1, 0, 0, 1, 1, 0, 0, 0, 1, 2, 0], '5': [1, 3, 2, 4, 1, 2, 2, 1, 4, 4, 3, 0, 0, 1, 2, 2, 4, 0, 1, 0, 4, 4, 2, 1, 3, 2, 4, 1, 3, 1, 1, 3, 1, 2, 1, 1, 3, 1, 1, 2, 3, 3, 4, 2, 1, 1, 4, 4, 4, 1, 2, 2, 4, 4, 2, 0, 4, 4, 4, 1, 4, 1, 3, 2, 1, 2, 3, 3, 0, 2, 1, 2, 4, 4, 4, 2, 4, 4, 3, 1, 2, 0, 3], '7': [0, 6, 4, 2, 0, 4, 4, 0, 5, 2, 6, 1, 1, 0, 4, 4, 2, 1, 0, 1, 2, 5, 2, 0, 6, 4, 5, 0, 6, 0, 0, 6, 0, 4, 0, 0, 6, 0, 0, 4, 6, 5, 5, 4, 5, 0, 5, 2, 2, 0, 4, 4, 2, 5, 4, 1, 2, 2, 5, 0, 2, 0, 6, 4, 0, 1, 6, 6, 3, 4, 0, 4, 2, 5, 5, 4, 2, 5, 6, 0, 4, 1, 6], '9': [7, 0, 2, 4, 6, 1, 2, 7, 6, 4, 0, 3, 3, 7, 2, 1, 4, 3, 6, 3, 4, 4, 4, 7, 0, 2, 4, 7, 0, 6, 7, 0, 7, 1, 7, 7, 0, 7, 7, 1, 0, 0, 6, 1, 6, 6, 6, 4, 4, 6, 2, 1, 4, 4, 1, 8, 4, 4, 6, 7, 4, 7, 0, 1, 6, 2, 0, 0, 5, 1, 7, 1, 4, 6, 4, 2, 4, 4, 0, 6, 1, 8, 0]}}\n",
      "0: The zucchini soup was delicious and fresh, salad crisp and not loaded with dressing.\n",
      "1: Had the homemade pasta special with brussel sprouts, shitake mushrooms, and fresh herbs.\n",
      "2: I had pasta, salad and desert here two days in a row.\n",
      "3: I had the Caparese Salad and Calamari both great and my husband an pesto chicken sandwich.\n",
      "4: The eggplant parmigiana appetizer was a single thin slice of eggplant with a thicker layer of regular (not fresh) mozzarella melted on top, something I could make at home in 5 min.\n",
      "5: This was the first time I had such small yet very flavorful meatballs with the spaghetti.\n",
      "6: The pieces of brussel sprouts seriously added up to 1-1.\n",
      "7: My portobello pasta was great.\n",
      "8: 5 brussel sprouts, and the shitake mushroom also at most 1 shitake mushroom.\n",
      "9: We ordered a variety of items from the menu ranging from appetizers (mussels are terrific) to salad to fish and pasta dishes to dessert.\n",
      "10: Excellent coffee.\n",
      "11: nice service!\n",
      "12: This for $17.\n",
      "13: Good pasta,not too much.\n",
      "14: Maybe I've just gotten incredibly lucky here.\n",
      "15: It was pretty ordinary.\n",
      "16: However, I'm puzzled by the bad reviews.\n",
      "17: check out Al Dente!\n",
      "18: Based on my experiences, I recommend it.\n",
      "19: Charming atmosphere too!\n",
      "20: Bad communications and indifferent service make this restaurant an unpleasant dining experience.\n",
      "21: The restaurant is pretty but the tables are very close together and the room is loud, which is a problem for conversation.\n",
      "22: The hostess was kind enough to give us a window table for 7 without reservations.\n",
      "23: Quiet atmosfere, local guests, no tourists.\n",
      "24: The atmosphere is inviting and the food was very good.\n",
      "25: We selected Al Dente because of the location but were pleasantly surprised by the ambiance, service and food.\n",
      "26: The food was very tasty and the service was great, we would eat here again.\n",
      "27: Lovely space, friendly staff and tasty dishes.\n",
      "28: The staff is friendly and attentive.\n",
      "29: I had heard good things about this restaurant, but I will not return.\n",
      "30: The risotto was vegetarian.\n",
      "31: The pasta is wonderful.\n",
      "32: Shrimp was good.\n",
      "33: There is a reason why Al Dente has been around so long!!\n",
      "34: Dinner was outstanding.\n",
      "35: Italian food was awesome.\n",
      "36: Branzino was perfectly cooked.\n",
      "37: They loved it.\n",
      "38: The pasta wasn't fresh and seemed to be out of a box.\n",
      "39: Some of the food was just okay, but other things were not.\n",
      "40: The food was amazing and so was the ambience.\n",
      "41: The food was excellent, i ordered fettuticini Alfredo which was probably the best i have ever had!\n",
      "42: Food overall was good although a few of the pasta fisher were not very warm when served.\n",
      "43: Nevertheless I enjoyed my meal there.\n",
      "44: In fact, the food is very good.\n",
      "45: The food and service was good it made me happy but nothing really special.\n",
      "46: Although there were mixed reviews online, we thought it was a good dining experience.\n",
      "47: I have never had a bad meal here.\n",
      "48: This is a lovely restaurant in the Upper West Side, we had a very nice meal here during our stay in New York.\n",
      "49: Mid-December visit to this restaurant exceeded our expectations.\n",
      "50: Our family was looking for a place to dine close to our condo during a recent visit to NY.\n",
      "51: This was the most expensive dinner of our trip, and probably the most disappointing.\n",
      "52: We were advised to try this restaurant by the doorman at our hotel on the first night of our holiday.\n",
      "53: I was on the childrens museum with wife and daughter we hadn't nothing to eat so we decided to grab a quick bite.\n",
      "54: Due to the weather outside we were at the restaurant for two and a half hours (our choice after a day of museum going)!\n",
      "55: While staying in New York for the month of November, gave this restaurant a try and was pleasantly surprised.\n",
      "56: On a warm day the outside tables were all occupied, so the small corner table inside while dining alone was perfect for the view and the food.\n",
      "57: Didn't know what we were hungry for until we saw the menu at Al Dente.\n",
      "58: It was our first night and we were tired, so we just walked in to this italian restaurant.\n",
      "59: We had some wine and time to talk.\n",
      "60: We stumbled upon this place after a few drinks in the area and were not disappointed.\n",
      "61: We had just gotten into the city after a long morning of travel.\n",
      "62: Ducked into this lovely little place to get out of a storm and we were so pleased we did!\n",
      "63: Just happened to stop in for lunch and we returned for dinner.\n",
      "64: Me and my husband went there after a long day of shopping.\n",
      "65: Next time we're on vacation we gonna make sure we visit again\n",
      "66: A little pricey, but we left happy!\n",
      "67: As usual didnt fail us.\n",
      "68: First, it was cream-based, which was not part of the description.\n",
      "69: The service wasn't very attentive.\n",
      "70: No one rushed us out.\n",
      "71: But, If it's good enough for Roth, it's good enough for me.\n",
      "72: At al dente new york, you eat the very best of the italian food, very delicious, friendly staff, nice Atmosphere, i was there for business and i loved this restarant, i would recommend it and would go there again if i am in new york city\n",
      "73: I do not recommend this restaurant, attended only because other similarly priced restaurants were booked.\n",
      "74: There are many places to choose from when looking to eat in Manhattan and many come and go like the seasons.\n",
      "75: Would definitely go back here and recommend this place to anyone who likes real Italian food.\n",
      "76: We looked for a good italian restaurant near to our hotel.\n",
      "77: The food is consistently great and after talking with the owner many time over the years, I know that she searches out the best quality ingredients and makes everything fresh, from the bread they serve to all the desserts.\n",
      "78: if you want great Italian food and the best Tiramisu you'll ever have.\n",
      "79: When I want great Italian food that doesn't break the bank I go to Al Dente.\n",
      "80: You get ready to dine in a Italian restaurant to find out that the waiters in \"Al Dente\" don't know a thing about pasta?\n",
      "81: Had a marvelous, Irish waiter (in an Italian restaurant?\n",
      "82: Portions European size.\n"
     ]
    }
   ],
   "source": [
    "import json\n",
    "with open('../data/TourQue_Knowledge_Cluster.json') as f:\n",
    "    data = json.load(f)\n",
    "    \n",
    "for k,v in list(data.items())[:2]:\n",
    "    print(v)\n",
    "    for i,r in enumerate(v['review']):\n",
    "        print(f\"{i}: {r.strip()}\")"
   ]
  },
  {
   "cell_type": "markdown",
   "metadata": {},
   "source": [
    "# Draw"
   ]
  },
  {
   "cell_type": "code",
   "execution_count": 1,
   "metadata": {},
   "outputs": [],
   "source": [
    "import json\n",
    "import random\n",
    "import numpy as np\n",
    "import pandas as pd\n",
    "import seaborn as sn\n",
    "from scipy.stats import mode\n",
    "import matplotlib.pyplot as plt"
   ]
  },
  {
   "cell_type": "code",
   "execution_count": 136,
   "metadata": {
    "scrolled": true
   },
   "outputs": [],
   "source": [
    "df = pd.DataFrame(columns=['epoch','cuts','score'])\n",
    "data = []\n",
    "label = [0,2,4,6,8]\n",
    "cuts = [1,3,5,10,15,20,25,30]\n",
    "data.append(cuts)\n",
    "for epoch in label:\n",
    "    with open(f'../data/draw_fig/LOG_sp_33_hsp_32_bz_8_lr_2e-05_score_dot_loss_nll_name_True_loc_True_maxloc_5_dist_False_dw_0.5_haversine_False_seed_42_cluster_5_trainfile_train.json_testfile_test.json_distilbert-base-uncased__{epoch}_res.json') as f:\n",
    "        res = json.load(f)\n",
    "    pos = np.array(res['std_pos'])\n",
    "    for i in cuts:\n",
    "        score = np.sum(pos<i)/len(pos)\n",
    "        df = df.append({'epoch':int(epoch),'cuts':i,'score':score},ignore_index=True)"
   ]
  },
  {
   "cell_type": "code",
   "execution_count": 137,
   "metadata": {
    "scrolled": true
   },
   "outputs": [],
   "source": [
    "df['epoch'] = df['epoch'].astype('int64') +1"
   ]
  },
  {
   "cell_type": "code",
   "execution_count": 143,
   "metadata": {
    "scrolled": true
   },
   "outputs": [
    {
     "data": {
      "image/png": "[encoded data removed]",
      "text/plain": [
       "<Figure size 449.05x288 with 1 Axes>"
      ]
     },
     "metadata": {},
     "output_type": "display_data"
    }
   ],
   "source": [
    "#sn.set_style('ticks')\n",
    "sn.relplot(data=df, kind='line', x='cuts', y='score',hue='epoch', marker='+', dashes=True, height=4, aspect=1.4,palette=\"deep\")\n",
    "#plt.xlim(0, 100)\n",
    "#plt.ylim(0, 0.9)\n",
    "plt.xlabel(\"# of retrieved POIs\",fontsize=14)\n",
    "plt.ylabel(\"Top-k Accuracy\",fontsize=14)\n",
    "plt.savefig('../data/draw_fig/visualize_train.pdf',format='pdf',bbox_inches='tight')"
   ]
  },
  {
   "cell_type": "markdown",
   "metadata": {},
   "source": [
    "# Human Eval"
   ]
  },
  {
   "cell_type": "code",
   "execution_count": 33,
   "metadata": {},
   "outputs": [],
   "source": [
    "import json\n",
    "with open('../data/human_eval/LOG_sp_17_hsp_16_bz_8_lr_2e-05_score_dot_loss_nll_name_True_loc_True_maxloc_5_dist_True_dw_0.5_haversine_False_seed_42_cluster_5_trainfile_train.json_testfile_test.json_distilbert-base-uncased__0_prediction.json') as f:\n",
    "    data = json.load(f)\n",
    "    \n",
    "import random\n",
    "random.shuffle(data)\n",
    "r100 = data[:100]\n",
    "\n",
    "count = 0\n",
    "for piece in r100:\n",
    "    piece['human_eval_top3_hit'] = []\n",
    "    piece['prediction'] = piece['prediction'][:3]\n",
    "    for p in piece['prediction'][:3]:\n",
    "        if p in piece['all_answer_entity_list']:\n",
    "            piece['human_eval_top3_hit'] = [p]\n",
    "            \n",
    "# with open('../data/human_eval/random100_eval.json','w') as f:\n",
    "#     json.dump(r100,f,indent=2)"
   ]
  },
  {
   "cell_type": "code",
   "execution_count": 213,
   "metadata": {
    "scrolled": true
   },
   "outputs": [
    {
     "name": "stdout",
     "output_type": "stream",
     "text": [
      "75\n"
     ]
    }
   ],
   "source": [
    "count = 0\n",
    "with open('../data/human_eval/random100_eval.json') as f:\n",
    "    d = json.load(f)\n",
    "for p in d:\n",
    "    if p['human_eval_top3_hit'] != []:\n",
    "        count += 1\n",
    "print(count)"
   ]
  },
  {
   "cell_type": "markdown",
   "metadata": {},
   "source": [
    "# SelSum"
   ]
  },
  {
   "cell_type": "code",
   "execution_count": 1,
   "metadata": {},
   "outputs": [],
   "source": [
    "# Read data\n",
    "import json\n",
    "with open('../data/TourQue_Knowledge_Cluster.json') as f:\n",
    "    knowledge = json.load(f)\n",
    "    \n",
    "import os\n",
    "if not os.path.exists('tour_data'):\n",
    "    os.mkdir('tour_data')\n",
    "\n",
    "data = list(knowledge.items())\n",
    "batch_size = int(len(data)/10)"
   ]
  },
  {
   "cell_type": "markdown",
   "metadata": {},
   "source": [
    "### Export reviews"
   ]
  },
  {
   "cell_type": "code",
   "execution_count": 11,
   "metadata": {},
   "outputs": [],
   "source": [
    "for i in range(10):\n",
    "    if not os.path.exists(f'tour_data/sel{i}'):\n",
    "        os.mkdir(f'tour_data/sel{i}')\n",
    "        os.mkdir(f'tour_data/sums{i}')\n",
    "    f1 = open(f'tour_data/sel{i}/test.source','w')\n",
    "    f2 = open(f'tour_data/sel{i}/test.tags','w')\n",
    "    for k in range(i*batch_size, (i+1)*batch_size):\n",
    "        v = data[k][1]\n",
    "        f1.write(' '.join(v['review']).strip().replace('\\n',' </s>')+'\\n')\n",
    "        if len(v['review']) > 9:\n",
    "            f2.write(' '.join(['1']*10 +  ['0']*(len(v['review'])-10))+'\\n')\n",
    "        else:\n",
    "            f2.write(' '.join(['1']*(len(v['review'])))+'\\n')\n",
    "\n",
    "    f1.close()\n",
    "    f2.close()"
   ]
  },
  {
   "cell_type": "markdown",
   "metadata": {},
   "source": [
    "### Import Sel reviews"
   ]
  },
  {
   "cell_type": "code",
   "execution_count": 40,
   "metadata": {},
   "outputs": [],
   "source": [
    "for i in range(10):\n",
    "    f1 = open(f'tour_data/p_sel{i}/test.source')\n",
    "    for k in range(i*batch_size, (i+1)*batch_size):\n",
    "        v = data[k][1]\n",
    "        rev = f1.readline()\n",
    "        rev = rev.strip().split(' </s> ')\n",
    "        # assert rev[0]+'\\n' in v['review'] # check whether the first rev in the original database\n",
    "        v['review'] = rev\n",
    "        v['cluster_map'] = {}\n",
    "    f1.close()\n",
    "new_knowledge = dict(data)"
   ]
  },
  {
   "cell_type": "code",
   "execution_count": 41,
   "metadata": {},
   "outputs": [],
   "source": [
    "with open('../data/TourQue_Knowledge_Sel.json','w') as f:\n",
    "    json.dump(new_knowledge, f, indent=2)"
   ]
  },
  {
   "cell_type": "markdown",
   "metadata": {},
   "source": [
    "### Import SelSum reviews"
   ]
  },
  {
   "cell_type": "code",
   "execution_count": 3,
   "metadata": {},
   "outputs": [],
   "source": [
    "for i in range(10):\n",
    "    f1 = open(f'tour_data/sums{i}/test.verd')\n",
    "    f2 = open(f'tour_data/sums{i}/test.pros')\n",
    "    f3 = open(f'tour_data/sums{i}/test.cons')\n",
    "    for k in range(i*batch_size, (i+1)*batch_size):\n",
    "        v = data[k][1]\n",
    "        verd = f1.readline()\n",
    "        pros = f2.readline()\n",
    "        cons = f3.readline()\n",
    "        v['review'] = [f\"Verdict: {verd}\",f\"Pros: {pros}\",f\"Cons: {cons}\"]\n",
    "        v['cluster_map'] = {}\n",
    "    f1.close()\n",
    "    f2.close()\n",
    "    f3.close()\n",
    "new_knowledge = dict(data)"
   ]
  },
  {
   "cell_type": "code",
   "execution_count": 4,
   "metadata": {},
   "outputs": [],
   "source": [
    "with open('../data/TourQue_Knowledge_SelSum.json','w') as f:\n",
    "    json.dump(new_knowledge, f, indent=2)"
   ]
  },
  {
   "cell_type": "markdown",
   "metadata": {},
   "source": [
    "### Combine Sel & SelSum"
   ]
  },
  {
   "cell_type": "code",
   "execution_count": 2,
   "metadata": {},
   "outputs": [],
   "source": [
    "for i in range(10):\n",
    "    f1 = open(f'tour_data/sums{i}/test.verd')\n",
    "    f2 = open(f'tour_data/sums{i}/test.pros')\n",
    "    f3 = open(f'tour_data/sums{i}/test.cons')\n",
    "    f4 = open(f'tour_data/p_sel{i}/test.source')\n",
    "    for k in range(i*batch_size, (i+1)*batch_size):\n",
    "        v = data[k][1]\n",
    "        verd = f1.readline()\n",
    "        pros = f2.readline()\n",
    "        cons = f3.readline()\n",
    "        reviews = f4.readline().strip().split(' </s> ')\n",
    "        v['review'] = [f\"Verdict: {verd}\",f\"Pros: {pros}\",f\"Cons: {cons}\", \"Comments:\"] + reviews\n",
    "        v['cluster_map'] = {}\n",
    "    f1.close()\n",
    "    f2.close()\n",
    "    f3.close()\n",
    "    f4.close()\n",
    "new_knowledge = dict(data)"
   ]
  },
  {
   "cell_type": "code",
   "execution_count": null,
   "metadata": {},
   "outputs": [],
   "source": [
    "with open('../data/TourQue_Knowledge_SelSum.json','w') as f:\n",
    "    json.dump(new_knowledge, f, indent=2)"
   ]
  },
  {
   "cell_type": "markdown",
   "metadata": {},
   "source": [
    "### Average token length Comparison"
   ]
  },
  {
   "cell_type": "code",
   "execution_count": 1,
   "metadata": {},
   "outputs": [
    {
     "name": "stdout",
     "output_type": "stream",
     "text": [
      "626.7116573524276\n",
      "171.22687740132727\n",
      "68.93704156479218\n"
     ]
    }
   ],
   "source": [
    "import json\n",
    "kf_list = ['../data/TourQue_Knowledge_Cluster.json','../data/TourQue_Knowledge_Sel.json','../data/TourQue_Knowledge_SelSum.json']\n",
    "for kf in kf_list:\n",
    "    with open(kf) as f:\n",
    "        total_len = 0\n",
    "        data = json.load(f)\n",
    "        for v in data.values():\n",
    "            total_len += len((' '.join(v['review'])).split())\n",
    "        print(total_len/len(data))\n",
    "        total_len = 0"
   ]
  },
  {
   "cell_type": "code",
   "execution_count": null,
   "metadata": {},
   "outputs": [],
   "source": []
  }
 ],
 "metadata": {
  "kernelspec": {
   "display_name": "Python 3 (ipykernel)",
   "language": "python",
   "name": "python3"
  },
  "language_info": {
   "codemirror_mode": {
    "name": "ipython",
    "version": 3
   },
   "file_extension": ".py",
   "mimetype": "text/x-python",
   "name": "python",
   "nbconvert_exporter": "python",
   "pygments_lexer": "ipython3",
   "version": "3.10.9"
  }
 },
 "nbformat": 4,
 "nbformat_minor": 2
}
